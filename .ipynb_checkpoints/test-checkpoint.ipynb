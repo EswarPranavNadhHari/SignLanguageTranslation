{
 "cells": [
  {
   "cell_type": "code",
   "execution_count": 1,
   "metadata": {},
   "outputs": [],
   "source": [
    "import os\n",
    "import numpy as np\n",
    "import mediapipe as mp\n",
    "from tensorflow.keras.models import load_model\n",
    "import sys\n",
    "sys.path.append('words')\n",
    "from functions import *"
   ]
  },
  {
   "cell_type": "code",
   "execution_count": 2,
   "metadata": {},
   "outputs": [],
   "source": [
    "actions = np.array([\"idle\",\"my\", \"name\", \"your\", \"L\", \"E\", \"O\"])\n",
    "letters = ['A', 'B', 'C', 'D', 'E', 'F', 'G', 'H', 'I', 'J', 'K', 'L', 'M', 'N', 'O', 'P', 'Q', 'R', 'S', 'T', 'U', 'V', 'W', 'X', 'Y', 'Z']"
   ]
  },
  {
   "cell_type": "code",
   "execution_count": 3,
   "metadata": {},
   "outputs": [],
   "source": [
    "model = load_model('my_model-l1')\n",
    "# model_CNN = load_model('')"
   ]
  },
  {
   "cell_type": "code",
   "execution_count": 4,
   "metadata": {},
   "outputs": [],
   "source": [
    "colors = [(255,255,255)] * len(actions)\n",
    "def prob_viz(res, actions, input_frame, colors):\n",
    "    output_frame = input_frame.copy()\n",
    "    for num, prob in enumerate(res):\n",
    "        cv2.rectangle(output_frame, (0,60+num*40), (int(prob*100), 90+num*40), colors[num], -1)\n",
    "        cv2.putText(output_frame, actions[num], (0, 85+num*40), cv2.FONT_HERSHEY_PLAIN, 1, (255,0,0), 1, cv2.LINE_AA)\n",
    "        \n",
    "    return output_frame"
   ]
  },
  {
   "cell_type": "code",
   "execution_count": 42,
   "metadata": {},
   "outputs": [
    {
     "name": "stdout",
     "output_type": "stream",
     "text": [
      "<class 'mediapipe.python.solution_base.SolutionOutputs'>\n",
      "<class 'mediapipe.python.solution_base.SolutionOutputs'>\n",
      "<class 'mediapipe.python.solution_base.SolutionOutputs'>\n",
      "<class 'mediapipe.python.solution_base.SolutionOutputs'>\n",
      "<class 'mediapipe.python.solution_base.SolutionOutputs'>\n"
     ]
    },
    {
     "ename": "UnboundLocalError",
     "evalue": "cannot access local variable 'nose' where it is not associated with a value",
     "output_type": "error",
     "traceback": [
      "\u001b[1;31m---------------------------------------------------------------------------\u001b[0m",
      "\u001b[1;31mUnboundLocalError\u001b[0m                         Traceback (most recent call last)",
      "Cell \u001b[1;32mIn[42], line 38\u001b[0m\n\u001b[0;32m     36\u001b[0m \u001b[38;5;66;03m# 2. Prediction logic\u001b[39;00m\n\u001b[0;32m     37\u001b[0m \u001b[38;5;28;01mif\u001b[39;00m count \u001b[38;5;241m==\u001b[39m \u001b[38;5;241m5\u001b[39m \u001b[38;5;129;01mor\u001b[39;00m (\u001b[38;5;28mlen\u001b[39m(sequence) \u001b[38;5;241m>\u001b[39m \u001b[38;5;241m0\u001b[39m) :\n\u001b[1;32m---> 38\u001b[0m     keypoints \u001b[38;5;241m=\u001b[39m \u001b[43mextract_specific_keypoints\u001b[49m\u001b[43m(\u001b[49m\u001b[43mresults\u001b[49m\u001b[43m)\u001b[49m\n\u001b[0;32m     39\u001b[0m     \u001b[38;5;28;01mif\u001b[39;00m(\u001b[38;5;28mlen\u001b[39m(sequence) \u001b[38;5;129;01min\u001b[39;00m [\u001b[38;5;241m1\u001b[39m,\u001b[38;5;241m6\u001b[39m,\u001b[38;5;241m11\u001b[39m]):\n\u001b[0;32m     40\u001b[0m         imp \u001b[38;5;241m=\u001b[39m important_features(image)\n",
      "File \u001b[1;32mc:\\Users\\eswar\\eswar7781\\coding\\project_test\\project-v5\\words\\functions.py:67\u001b[0m, in \u001b[0;36mextract_specific_keypoints\u001b[1;34m(results)\u001b[0m\n\u001b[0;32m     65\u001b[0m     \u001b[38;5;28;01melse\u001b[39;00m:\n\u001b[0;32m     66\u001b[0m         right_index \u001b[38;5;241m=\u001b[39m np\u001b[38;5;241m.\u001b[39mzeros(\u001b[38;5;241m4\u001b[39m)\n\u001b[1;32m---> 67\u001b[0m \u001b[38;5;28;01mreturn\u001b[39;00m np\u001b[38;5;241m.\u001b[39mconcatenate([\u001b[43mnose\u001b[49m, left_shoulder, right_shoulder, right_index, lh, rh])\n",
      "\u001b[1;31mUnboundLocalError\u001b[0m: cannot access local variable 'nose' where it is not associated with a value"
     ]
    }
   ],
   "source": [
    "# 1. New detection variables\n",
    "sequence = []\n",
    "actualSentence=[]\n",
    "idle_list = [\"idle\" for _ in range(5)]\n",
    "sentence = []\n",
    "predictions = []\n",
    "count = 0\n",
    "threshold = 0.45\n",
    "i = 0\n",
    "flag = 0\n",
    "\n",
    "\n",
    "cap = cv2.VideoCapture(0)\n",
    "# path = \"C:/Users/eswar/Pictures/Camera Roll/WIN_20240312_01_00_45_Pro.mp4\"\n",
    "# path = \"C:/Users/eswar/eswar7781/coding/project_test/project-v3/output_no_landmarks.mkv\"\n",
    "# cap = cv2.VideoCapture(path)\n",
    "\n",
    "\n",
    "# Set mediapipe model \n",
    "with mp_holistic.Holistic(min_detection_confidence=0.75, min_tracking_confidence=0.75) as holistic:\n",
    "    while cap.isOpened():\n",
    "        if(len(sequence) == 0):\n",
    "            count += 1\n",
    "        \n",
    "        # Read feed\n",
    "        ret, img = cap.read()\n",
    "\n",
    "        # Make detections\n",
    "        if(flag == 0):\n",
    "            image, results = mediapipe_detection(img, holistic)\n",
    "            print(results)\n",
    "            \n",
    "            # Draw landmarks\n",
    "            draw_styled_landmarks(image, results)\n",
    "            \n",
    "            # 2. Prediction logic\n",
    "            if count == 5 or (len(sequence) > 0) :\n",
    "                keypoints = extract_specific_keypoints(results)\n",
    "                if(len(sequence) in [1,6,11]):\n",
    "                    imp = important_features(image)\n",
    "                    keypoints = np.concatenate([keypoints, imp])\n",
    "                else:\n",
    "                    keypoints = np.concatenate([keypoints, np.array([0, 0, 0, 0])])\n",
    "                sequence.append(keypoints)\n",
    "                count = 0        \n",
    "            \n",
    "            if len(sequence) == 11:\n",
    "                res = model.predict(np.expand_dims(sequence, axis=0))[0]\n",
    "                print(res)\n",
    "                print(actions[np.argmax(res)])\n",
    "                predictions.append(np.argmax(res))\n",
    "                sequence = []\n",
    "                \n",
    "                if res[np.argmax(res)] > threshold: \n",
    "                    actualSentence.append(actions[np.argmax(res)])\n",
    "                    if len(sentence) > 0: \n",
    "                        if len(sentence) >= 3:\n",
    "                            if actions[np.argmax(res)] != sentence[-1] and actions[np.argmax(res)] != sentence[-2] and actions[np.argmax(res)] != sentence[-3] and actions[np.argmax(res)] != \"idle\":\n",
    "                                sentence.append(actions[np.argmax(res)])\n",
    "                        elif len(sentence) >= 2:\n",
    "                            if actions[np.argmax(res)] != sentence[-1] and actions[np.argmax(res)] != sentence[-2] and actions[np.argmax(res)] != \"idle\":\n",
    "                                sentence.append(actions[np.argmax(res)])\n",
    "                        else:\n",
    "                            if actions[np.argmax(res)] != sentence[-1]:\n",
    "                                sentence.append(actions[np.argmax(res)])\n",
    "                    else:\n",
    "                        if actions[np.argmax(res)] != \"idle\":\n",
    "                            sentence.append(actions[np.argmax(res)])\n",
    "            if(len(actualSentence)>=5):\n",
    "                actualSentence = actualSentence[-5:] \n",
    "        \n",
    "        # result = \"\"\n",
    "        # count = 0\n",
    "        # for item in sentence:\n",
    "        #     print(item)\n",
    "        #     if count>=2:\n",
    "        #         result += \"\\n\"\n",
    "        #         result += item\n",
    "        #         count = 1\n",
    "        #     else:\n",
    "        #         result += item\n",
    "        #     count += 1  \n",
    "        # print(result)  \n",
    "\n",
    "                    # Viz probabilities\n",
    "                # image = prob_viz(res, actions, image, colors)\n",
    "                \n",
    "                # cv2.rectangle(image, (0,0), (640, 40), (245, 117, 16), -1)\n",
    "        if(actualSentence == idle_list):\n",
    "            flag = 1\n",
    "        cv2.putText(image, \" \".join(sentence), (3,30), \n",
    "                    cv2.FONT_HERSHEY_SIMPLEX, 1, (255, 0, 0), 2, cv2.LINE_AA)\n",
    "        \n",
    "        cv2.putText(image, \"Mode: words\" if flag==0 else \"Mode: letters\", (image.shape[1]-640,image.shape[0]-10), \n",
    "            cv2.FONT_HERSHEY_PLAIN, 2, (0, 0, 255), 1, cv2.LINE_AA)\n",
    "        \n",
    "        cv2.putText(image, str(len(sequence)), (image.shape[1]-50,image.shape[0]-10), \n",
    "            cv2.FONT_HERSHEY_PLAIN, 2, (0, 0, 255), 1, cv2.LINE_AA)\n",
    "\n",
    "\n",
    "        \n",
    "        # Show to screen\n",
    "        cv2.imshow('OpenCV Feed', image)\n",
    "\n",
    "        # Break gracefully\n",
    "        if cv2.waitKey(10) & 0xFF == ord('q') :\n",
    "            break\n",
    "        \n",
    "    cap.release()\n",
    "    cv2.destroyAllWindows()"
   ]
  },
  {
   "cell_type": "code",
   "execution_count": 40,
   "metadata": {},
   "outputs": [],
   "source": [
    "cap.release()\n",
    "cv2.destroyAllWindows()"
   ]
  },
  {
   "cell_type": "code",
   "execution_count": null,
   "metadata": {},
   "outputs": [],
   "source": []
  },
  {
   "cell_type": "code",
   "execution_count": null,
   "metadata": {},
   "outputs": [],
   "source": []
  },
  {
   "cell_type": "code",
   "execution_count": null,
   "metadata": {},
   "outputs": [],
   "source": []
  }
 ],
 "metadata": {
  "kernelspec": {
   "display_name": "Python 3 (ipykernel)",
   "language": "python",
   "name": "python3"
  },
  "language_info": {
   "codemirror_mode": {
    "name": "ipython",
    "version": 3
   },
   "file_extension": ".py",
   "mimetype": "text/x-python",
   "name": "python",
   "nbconvert_exporter": "python",
   "pygments_lexer": "ipython3",
   "version": "3.11.8"
  }
 },
 "nbformat": 4,
 "nbformat_minor": 4
}
