{
 "cells": [
  {
   "cell_type": "code",
   "execution_count": 1,
   "metadata": {},
   "outputs": [],
   "source": [
    "import numpy as np\n",
    "import os\n",
    "from sklearn.model_selection import train_test_split\n",
    "from tensorflow.keras.utils import to_categorical\n",
    "from tensorflow.keras.models import Sequential\n",
    "from tensorflow.keras.layers import LSTM, Dense\n",
    "from sklearn import metrics\n",
    "from functions import important_features"
   ]
  },
  {
   "cell_type": "code",
   "execution_count": 2,
   "metadata": {},
   "outputs": [],
   "source": [
    "# Path for exported data, numpy arrays\n",
    "DATA_PATH = os.path.join('data') \n",
    "\n",
    "# Actions that we try to detect\n",
    "actions = np.array([\"idle\",\"my\", \"name\", \"hello\",\"I\",\"live at\"]) #change according to ur required gestures!!\n",
    "\n",
    "\n",
    "# thirty videos worth of data\n",
    "no_sequences = 30\n",
    "\n",
    "# Videos are going to be 10 frames in length\n",
    "sequence_length = 11\n",
    "\n",
    "# Folder start\n",
    "start_folder = 30"
   ]
  },
  {
   "cell_type": "code",
   "execution_count": 3,
   "metadata": {},
   "outputs": [],
   "source": [
    "label_map = {label:num for num, label in enumerate(actions)}"
   ]
  },
  {
   "cell_type": "code",
   "execution_count": 5,
   "metadata": {},
   "outputs": [],
   "source": [
    "sequences, labels = [], []\n",
    "for action in actions:\n",
    "    for sequence in np.array(os.listdir(os.path.join(DATA_PATH, action))).astype(int):\n",
    "        window = []\n",
    "        for frame_num in range(sequence_length):\n",
    "            res = np.load(os.path.join(DATA_PATH, action, str(sequence), \"{}.npy\".format(frame_num)))\n",
    "            i = 0\n",
    "            if(frame_num in [0, 5, 11]):\n",
    "                imp = np.load(os.path.join(DATA_PATH, action, str(sequence), \"important.npy\"))\n",
    "                res = np.concatenate([res, imp[i]])\n",
    "                i = i+1\n",
    "            else:\n",
    "                res = np.concatenate([res,np.array([0,0,0,0])])\n",
    "            window.append(res)\n",
    "                \n",
    "            \n",
    "        sequences.append(window)\n",
    "        labels.append(label_map[action])\n",
    "        "
   ]
  },
  {
   "cell_type": "code",
   "execution_count": 6,
   "metadata": {},
   "outputs": [],
   "source": [
    "X = np.array(sequences)\n",
    "y = to_categorical(labels).astype(int)"
   ]
  },
  {
   "cell_type": "code",
   "execution_count": 7,
   "metadata": {},
   "outputs": [
    {
     "data": {
      "text/plain": [
       "(180, 11, 146)"
      ]
     },
     "execution_count": 7,
     "metadata": {},
     "output_type": "execute_result"
    }
   ],
   "source": [
    "X.shape"
   ]
  },
  {
   "cell_type": "code",
   "execution_count": 8,
   "metadata": {},
   "outputs": [],
   "source": [
    "X_train, X_test, Y_train, Y_test = train_test_split(X, y, test_size=0.10, random_state=34, stratify=y)"
   ]
  },
  {
   "cell_type": "code",
   "execution_count": 9,
   "metadata": {},
   "outputs": [],
   "source": [
    "model = Sequential()\n",
    "model.add(LSTM(32, return_sequences=True, activation='relu', input_shape=(11,146)))\n",
    "model.add(LSTM(64, return_sequences=True, activation='relu'))\n",
    "model.add(LSTM(32, return_sequences=False, activation='relu'))\n",
    "model.add(Dense(32, activation='relu'))\n",
    "model.add(Dense(actions.shape[0], activation='softmax'))"
   ]
  },
  {
   "cell_type": "code",
   "execution_count": 10,
   "metadata": {},
   "outputs": [],
   "source": [
    "model.compile(optimizer='Adam', loss='categorical_crossentropy', metrics=['categorical_accuracy'])"
   ]
  },
  {
   "cell_type": "code",
   "execution_count": 11,
   "metadata": {},
   "outputs": [
    {
     "name": "stdout",
     "output_type": "stream",
     "text": [
      "Model: \"sequential\"\n",
      "_________________________________________________________________\n",
      " Layer (type)                Output Shape              Param #   \n",
      "=================================================================\n",
      " lstm (LSTM)                 (None, 11, 32)            22912     \n",
      "                                                                 \n",
      " lstm_1 (LSTM)               (None, 11, 64)            24832     \n",
      "                                                                 \n",
      " lstm_2 (LSTM)               (None, 32)                12416     \n",
      "                                                                 \n",
      " dense (Dense)               (None, 32)                1056      \n",
      "                                                                 \n",
      " dense_1 (Dense)             (None, 6)                 198       \n",
      "                                                                 \n",
      "=================================================================\n",
      "Total params: 61,414\n",
      "Trainable params: 61,414\n",
      "Non-trainable params: 0\n",
      "_________________________________________________________________\n"
     ]
    }
   ],
   "source": [
    "model.summary()"
   ]
  },
  {
   "cell_type": "code",
   "execution_count": 11,
   "metadata": {},
   "outputs": [
    {
     "name": "stdout",
     "output_type": "stream",
     "text": [
      "Epoch 1/25\n",
      "6/6 [==============================] - 5s 18ms/step - loss: 1.7155 - categorical_accuracy: 0.3580\n",
      "Epoch 2/25\n",
      "6/6 [==============================] - 0s 17ms/step - loss: 1.3904 - categorical_accuracy: 0.5062\n",
      "Epoch 3/25\n",
      "6/6 [==============================] - 0s 16ms/step - loss: 1.0201 - categorical_accuracy: 0.6605\n",
      "Epoch 4/25\n",
      "6/6 [==============================] - 0s 16ms/step - loss: 0.6022 - categorical_accuracy: 0.7716\n",
      "Epoch 5/25\n",
      "6/6 [==============================] - 0s 16ms/step - loss: 0.9399 - categorical_accuracy: 0.7222\n",
      "Epoch 6/25\n",
      "6/6 [==============================] - 0s 18ms/step - loss: 0.7815 - categorical_accuracy: 0.6605\n",
      "Epoch 7/25\n",
      "6/6 [==============================] - 0s 17ms/step - loss: 0.6664 - categorical_accuracy: 0.8333\n",
      "Epoch 8/25\n",
      "6/6 [==============================] - 0s 17ms/step - loss: 0.5981 - categorical_accuracy: 0.7716\n",
      "Epoch 9/25\n",
      "6/6 [==============================] - 0s 17ms/step - loss: 0.4684 - categorical_accuracy: 0.8827\n",
      "Epoch 10/25\n",
      "6/6 [==============================] - 0s 17ms/step - loss: 0.3257 - categorical_accuracy: 0.8704\n",
      "Epoch 11/25\n",
      "6/6 [==============================] - 0s 16ms/step - loss: 0.3437 - categorical_accuracy: 0.8457\n",
      "Epoch 12/25\n",
      "6/6 [==============================] - 0s 17ms/step - loss: 0.2901 - categorical_accuracy: 0.9198\n",
      "Epoch 13/25\n",
      "6/6 [==============================] - 0s 17ms/step - loss: 0.2374 - categorical_accuracy: 0.9321\n",
      "Epoch 14/25\n",
      "6/6 [==============================] - 0s 18ms/step - loss: 0.0825 - categorical_accuracy: 0.9753\n",
      "Epoch 15/25\n",
      "6/6 [==============================] - 0s 18ms/step - loss: 0.0559 - categorical_accuracy: 0.9938\n",
      "Epoch 16/25\n",
      "6/6 [==============================] - 0s 16ms/step - loss: 0.1117 - categorical_accuracy: 0.9877\n",
      "Epoch 17/25\n",
      "6/6 [==============================] - 0s 18ms/step - loss: 0.0617 - categorical_accuracy: 0.9753\n",
      "Epoch 18/25\n",
      "6/6 [==============================] - 0s 20ms/step - loss: 0.0207 - categorical_accuracy: 0.9938\n",
      "Epoch 19/25\n",
      "6/6 [==============================] - 0s 19ms/step - loss: 0.0287 - categorical_accuracy: 0.9938\n",
      "Epoch 20/25\n",
      "6/6 [==============================] - 0s 17ms/step - loss: 0.0273 - categorical_accuracy: 0.9938\n",
      "Epoch 21/25\n",
      "6/6 [==============================] - 0s 29ms/step - loss: 0.0236 - categorical_accuracy: 0.9877\n",
      "Epoch 22/25\n",
      "6/6 [==============================] - 0s 18ms/step - loss: 0.0412 - categorical_accuracy: 0.9938\n",
      "Epoch 23/25\n",
      "6/6 [==============================] - 0s 17ms/step - loss: 0.0094 - categorical_accuracy: 1.0000\n",
      "Epoch 24/25\n",
      "6/6 [==============================] - 0s 19ms/step - loss: 0.0267 - categorical_accuracy: 0.9938\n",
      "Epoch 25/25\n",
      "6/6 [==============================] - 0s 17ms/step - loss: 0.0124 - categorical_accuracy: 0.9938\n"
     ]
    },
    {
     "data": {
      "text/plain": [
       "<keras.callbacks.History at 0x22c5eb19050>"
      ]
     },
     "execution_count": 11,
     "metadata": {},
     "output_type": "execute_result"
    }
   ],
   "source": [
    "model.fit(X_train, Y_train, epochs=25)"
   ]
  },
  {
   "cell_type": "code",
   "execution_count": 12,
   "metadata": {},
   "outputs": [
    {
     "name": "stderr",
     "output_type": "stream",
     "text": [
      "WARNING:absl:Found untraced functions such as _update_step_xla while saving (showing 1 of 1). These functions will not be directly callable after loading.\n"
     ]
    },
    {
     "name": "stdout",
     "output_type": "stream",
     "text": [
      "INFO:tensorflow:Assets written to: model-words-2\\assets\n"
     ]
    },
    {
     "name": "stderr",
     "output_type": "stream",
     "text": [
      "INFO:tensorflow:Assets written to: model-words-2\\assets\n"
     ]
    }
   ],
   "source": [
    "model.save('model-words-2')"
   ]
  },
  {
   "cell_type": "code",
   "execution_count": 13,
   "metadata": {},
   "outputs": [
    {
     "name": "stdout",
     "output_type": "stream",
     "text": [
      "1/1 [==============================] - 1s 587ms/step\n"
     ]
    }
   ],
   "source": [
    "predictions = np.argmax(model.predict(X_test), axis=1)"
   ]
  },
  {
   "cell_type": "code",
   "execution_count": 14,
   "metadata": {},
   "outputs": [],
   "source": [
    "test_labels = np.argmax(Y_test, axis=1)"
   ]
  },
  {
   "cell_type": "code",
   "execution_count": 15,
   "metadata": {},
   "outputs": [],
   "source": [
    "accuracy = metrics.accuracy_score(test_labels, predictions)"
   ]
  },
  {
   "cell_type": "code",
   "execution_count": 16,
   "metadata": {},
   "outputs": [
    {
     "data": {
      "text/plain": [
       "1.0"
      ]
     },
     "execution_count": 16,
     "metadata": {},
     "output_type": "execute_result"
    }
   ],
   "source": [
    "accuracy"
   ]
  },
  {
   "cell_type": "code",
   "execution_count": null,
   "metadata": {},
   "outputs": [],
   "source": []
  }
 ],
 "metadata": {
  "kernelspec": {
   "display_name": "Python 3 (ipykernel)",
   "language": "python",
   "name": "python3"
  },
  "language_info": {
   "codemirror_mode": {
    "name": "ipython",
    "version": 3
   },
   "file_extension": ".py",
   "mimetype": "text/x-python",
   "name": "python",
   "nbconvert_exporter": "python",
   "pygments_lexer": "ipython3",
   "version": "3.11.9"
  }
 },
 "nbformat": 4,
 "nbformat_minor": 4
}
