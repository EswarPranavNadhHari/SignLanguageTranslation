{
 "cells": [
  {
   "cell_type": "code",
   "execution_count": 16,
   "metadata": {},
   "outputs": [],
   "source": [
    "import numpy as np\n",
    "import os\n",
    "from sklearn.model_selection import train_test_split\n",
    "from tensorflow.keras.utils import to_categorical\n",
    "from tensorflow.keras.models import Sequential\n",
    "from tensorflow.keras.layers import LSTM, Dense\n",
    "from sklearn import metrics\n",
    "from functions import important_features"
   ]
  },
  {
   "cell_type": "code",
   "execution_count": 17,
   "metadata": {},
   "outputs": [],
   "source": [
    "# Path for exported data, numpy arrays\n",
    "DATA_PATH = os.path.join('test-v3') \n",
    "\n",
    "# Actions that we try to detect\n",
    "# actions = np.array(['idle', 'me', 'see u later', \"help\", \"thank you\", \"what\"])\n",
    "# actions = np.array(['idle', 'my', \"name\", 'hello!', 'how', \"you\", \"good\", \"bye\"])\n",
    "# actions = np.array(['idle', \"hello\", \"my\", \"good\", \"E\", \"S\", \"W\", \"A\", \"R\", \"name\"])\n",
    "actions = np.array([\"idle\",\"my\", \"name\", \"your\", \"L\", \"E\", \"O\"])\n",
    "\n",
    "# thirty videos worth of data\n",
    "no_sequences = 30\n",
    "\n",
    "# Videos are going to be 10 frames in length\n",
    "sequence_length = 11\n",
    "\n",
    "# Folder start\n",
    "start_folder = 30"
   ]
  },
  {
   "cell_type": "code",
   "execution_count": 18,
   "metadata": {},
   "outputs": [],
   "source": [
    "label_map = {label:num for num, label in enumerate(actions)}"
   ]
  },
  {
   "cell_type": "code",
   "execution_count": 19,
   "metadata": {},
   "outputs": [],
   "source": [
    "# for action in actions:\n",
    "#     for sequence in np.array(os.listdir(os.path.join(DATA_PATH, action))).astype(int):\n",
    "#         for frame_num in range(sequence_length):\n",
    "#             res = np.load(os.path.join(DATA_PATH, action, str(sequence), \"{}.npy\".format(frame_num)))\n",
    "#             if(frame_num in [0,5,11]):\n",
    "#                 print(len(res))\n",
    "#             break\n",
    "#         break\n",
    "#     break"
   ]
  },
  {
   "cell_type": "code",
   "execution_count": 20,
   "metadata": {},
   "outputs": [],
   "source": [
    "sequences, labels = [], []\n",
    "for action in actions:\n",
    "    for sequence in np.array(os.listdir(os.path.join(DATA_PATH, action))).astype(int):\n",
    "        window = []\n",
    "        for frame_num in range(sequence_length):\n",
    "            res = np.load(os.path.join(DATA_PATH, action, str(sequence), \"{}.npy\".format(frame_num)))\n",
    "            i = 0\n",
    "            if(frame_num in [0, 5, 11]):\n",
    "                imp = np.load(os.path.join(DATA_PATH, action, str(sequence), \"important.npy\"))\n",
    "                res = np.concatenate([res, imp[i]])\n",
    "                i = i+1\n",
    "            else:\n",
    "                res = np.concatenate([res,np.array([0,0,0,0])])\n",
    "            window.append(res)\n",
    "            \n",
    "            \n",
    "            \n",
    "            \n",
    "        sequences.append(window)\n",
    "        labels.append(label_map[action])\n",
    "        "
   ]
  },
  {
   "cell_type": "code",
   "execution_count": 21,
   "metadata": {},
   "outputs": [],
   "source": [
    "X = np.array(sequences)\n",
    "y = to_categorical(labels).astype(int)"
   ]
  },
  {
   "cell_type": "code",
   "execution_count": 22,
   "metadata": {},
   "outputs": [
    {
     "data": {
      "text/plain": [
       "(210, 11, 146)"
      ]
     },
     "execution_count": 22,
     "metadata": {},
     "output_type": "execute_result"
    }
   ],
   "source": [
    "X.shape"
   ]
  },
  {
   "cell_type": "code",
   "execution_count": 23,
   "metadata": {},
   "outputs": [],
   "source": [
    "X_train, X_test, Y_train, Y_test = train_test_split(X, y, test_size=0.10, random_state=34, stratify=y)"
   ]
  },
  {
   "cell_type": "code",
   "execution_count": 31,
   "metadata": {},
   "outputs": [],
   "source": [
    "model = Sequential()\n",
    "model.add(LSTM(32, return_sequences=True, activation='relu', input_shape=(11,146)))\n",
    "model.add(LSTM(64, return_sequences=True, activation='relu'))\n",
    "model.add(LSTM(32, return_sequences=False, activation='relu'))\n",
    "model.add(Dense(32, activation='relu'))\n",
    "model.add(Dense(actions.shape[0], activation='softmax'))"
   ]
  },
  {
   "cell_type": "code",
   "execution_count": 32,
   "metadata": {},
   "outputs": [],
   "source": [
    "model.compile(optimizer='Adam', loss='categorical_crossentropy', metrics=['categorical_accuracy'])"
   ]
  },
  {
   "cell_type": "code",
   "execution_count": 33,
   "metadata": {},
   "outputs": [
    {
     "name": "stdout",
     "output_type": "stream",
     "text": [
      "Epoch 1/100\n",
      "6/6 [==============================] - 4s 10ms/step - loss: 2.0341 - categorical_accuracy: 0.1852\n",
      "Epoch 2/100\n",
      "6/6 [==============================] - 0s 10ms/step - loss: 1.6463 - categorical_accuracy: 0.2857\n",
      "Epoch 3/100\n",
      "6/6 [==============================] - 0s 11ms/step - loss: 1.4820 - categorical_accuracy: 0.5185\n",
      "Epoch 4/100\n",
      "6/6 [==============================] - 0s 10ms/step - loss: 1.2749 - categorical_accuracy: 0.5450\n",
      "Epoch 5/100\n",
      "6/6 [==============================] - 0s 9ms/step - loss: 1.0488 - categorical_accuracy: 0.5503\n",
      "Epoch 6/100\n",
      "6/6 [==============================] - 0s 10ms/step - loss: 0.8278 - categorical_accuracy: 0.6931\n",
      "Epoch 7/100\n",
      "6/6 [==============================] - 0s 9ms/step - loss: 0.6127 - categorical_accuracy: 0.7566\n",
      "Epoch 8/100\n",
      "6/6 [==============================] - 0s 10ms/step - loss: 0.6096 - categorical_accuracy: 0.7566\n",
      "Epoch 9/100\n",
      "6/6 [==============================] - 0s 9ms/step - loss: 0.5569 - categorical_accuracy: 0.8148\n",
      "Epoch 10/100\n",
      "6/6 [==============================] - 0s 11ms/step - loss: 0.5001 - categorical_accuracy: 0.8148\n",
      "Epoch 11/100\n",
      "6/6 [==============================] - 0s 10ms/step - loss: 0.4578 - categorical_accuracy: 0.8095\n",
      "Epoch 12/100\n",
      "6/6 [==============================] - 0s 9ms/step - loss: 0.4301 - categorical_accuracy: 0.8466\n",
      "Epoch 13/100\n",
      "6/6 [==============================] - 0s 9ms/step - loss: 0.3635 - categorical_accuracy: 0.8677\n",
      "Epoch 14/100\n",
      "6/6 [==============================] - 0s 9ms/step - loss: 0.3707 - categorical_accuracy: 0.8360\n",
      "Epoch 15/100\n",
      "6/6 [==============================] - 0s 9ms/step - loss: 0.3770 - categorical_accuracy: 0.8466\n",
      "Epoch 16/100\n",
      "6/6 [==============================] - 0s 9ms/step - loss: 0.3245 - categorical_accuracy: 0.8889\n",
      "Epoch 17/100\n",
      "6/6 [==============================] - 0s 10ms/step - loss: 0.5168 - categorical_accuracy: 0.7989\n",
      "Epoch 18/100\n",
      "6/6 [==============================] - 0s 9ms/step - loss: 0.4670 - categorical_accuracy: 0.7937\n",
      "Epoch 19/100\n",
      "6/6 [==============================] - 0s 10ms/step - loss: 0.3898 - categorical_accuracy: 0.8571\n",
      "Epoch 20/100\n",
      "6/6 [==============================] - 0s 8ms/step - loss: 0.3477 - categorical_accuracy: 0.8995\n",
      "Epoch 21/100\n",
      "6/6 [==============================] - 0s 13ms/step - loss: 0.2800 - categorical_accuracy: 0.9153\n",
      "Epoch 22/100\n",
      "6/6 [==============================] - 0s 9ms/step - loss: 0.2258 - categorical_accuracy: 0.9206\n",
      "Epoch 23/100\n",
      "6/6 [==============================] - 0s 9ms/step - loss: 0.2036 - categorical_accuracy: 0.9312\n",
      "Epoch 24/100\n",
      "6/6 [==============================] - 0s 9ms/step - loss: 0.2361 - categorical_accuracy: 0.9101\n",
      "Epoch 25/100\n",
      "6/6 [==============================] - 0s 10ms/step - loss: 0.2455 - categorical_accuracy: 0.8624\n",
      "Epoch 26/100\n",
      "6/6 [==============================] - 0s 10ms/step - loss: 0.2382 - categorical_accuracy: 0.8942\n",
      "Epoch 27/100\n",
      "6/6 [==============================] - 0s 9ms/step - loss: 0.2605 - categorical_accuracy: 0.8836\n",
      "Epoch 28/100\n",
      "6/6 [==============================] - 0s 9ms/step - loss: 0.2677 - categorical_accuracy: 0.8889\n",
      "Epoch 29/100\n",
      "6/6 [==============================] - 0s 10ms/step - loss: 0.1349 - categorical_accuracy: 0.9630\n",
      "Epoch 30/100\n",
      "6/6 [==============================] - 0s 13ms/step - loss: 0.2240 - categorical_accuracy: 0.8995\n",
      "Epoch 31/100\n",
      "6/6 [==============================] - 0s 10ms/step - loss: 0.1336 - categorical_accuracy: 0.9630\n",
      "Epoch 32/100\n",
      "6/6 [==============================] - 0s 13ms/step - loss: 0.1223 - categorical_accuracy: 0.9577\n",
      "Epoch 33/100\n",
      "6/6 [==============================] - 0s 11ms/step - loss: 0.1018 - categorical_accuracy: 0.9630\n",
      "Epoch 34/100\n",
      "6/6 [==============================] - 0s 9ms/step - loss: 0.1198 - categorical_accuracy: 0.9577\n",
      "Epoch 35/100\n",
      "6/6 [==============================] - 0s 9ms/step - loss: 0.1323 - categorical_accuracy: 0.9577\n",
      "Epoch 36/100\n",
      "6/6 [==============================] - 0s 10ms/step - loss: 0.1726 - categorical_accuracy: 0.9630\n",
      "Epoch 37/100\n",
      "6/6 [==============================] - 0s 7ms/step - loss: 0.0982 - categorical_accuracy: 0.9788\n",
      "Epoch 38/100\n",
      "6/6 [==============================] - 0s 10ms/step - loss: 0.0719 - categorical_accuracy: 0.9894\n",
      "Epoch 39/100\n",
      "6/6 [==============================] - 0s 9ms/step - loss: 0.0733 - categorical_accuracy: 0.9683\n",
      "Epoch 40/100\n",
      "6/6 [==============================] - 0s 10ms/step - loss: 0.0542 - categorical_accuracy: 0.9841\n",
      "Epoch 41/100\n",
      "6/6 [==============================] - 0s 10ms/step - loss: 0.0717 - categorical_accuracy: 0.9841\n",
      "Epoch 42/100\n",
      "6/6 [==============================] - 0s 9ms/step - loss: 0.0458 - categorical_accuracy: 0.9841\n",
      "Epoch 43/100\n",
      "6/6 [==============================] - 0s 9ms/step - loss: 0.0342 - categorical_accuracy: 0.9947\n",
      "Epoch 44/100\n",
      "6/6 [==============================] - 0s 9ms/step - loss: 0.0990 - categorical_accuracy: 0.9524\n",
      "Epoch 45/100\n",
      "6/6 [==============================] - 0s 10ms/step - loss: 0.2151 - categorical_accuracy: 0.9206\n",
      "Epoch 46/100\n",
      "6/6 [==============================] - 0s 7ms/step - loss: 0.3961 - categorical_accuracy: 0.8889\n",
      "Epoch 47/100\n",
      "6/6 [==============================] - 0s 10ms/step - loss: 0.2101 - categorical_accuracy: 0.9206\n",
      "Epoch 48/100\n",
      "6/6 [==============================] - 0s 9ms/step - loss: 0.1991 - categorical_accuracy: 0.9365\n",
      "Epoch 49/100\n",
      "6/6 [==============================] - 0s 9ms/step - loss: 0.1770 - categorical_accuracy: 0.9418\n",
      "Epoch 50/100\n",
      "6/6 [==============================] - 0s 13ms/step - loss: 0.0929 - categorical_accuracy: 0.9841\n",
      "Epoch 51/100\n",
      "6/6 [==============================] - 0s 10ms/step - loss: 0.0645 - categorical_accuracy: 0.9683\n",
      "Epoch 52/100\n",
      "6/6 [==============================] - 0s 9ms/step - loss: 0.0345 - categorical_accuracy: 0.9894\n",
      "Epoch 53/100\n",
      "6/6 [==============================] - 0s 10ms/step - loss: 0.0247 - categorical_accuracy: 0.9947\n",
      "Epoch 54/100\n",
      "6/6 [==============================] - 0s 10ms/step - loss: 0.0633 - categorical_accuracy: 0.9735\n",
      "Epoch 55/100\n",
      "6/6 [==============================] - 0s 9ms/step - loss: 0.0281 - categorical_accuracy: 0.9947\n",
      "Epoch 56/100\n",
      "6/6 [==============================] - 0s 9ms/step - loss: 0.0332 - categorical_accuracy: 0.9841\n",
      "Epoch 57/100\n",
      "6/6 [==============================] - 0s 10ms/step - loss: 0.0222 - categorical_accuracy: 0.9947\n",
      "Epoch 58/100\n",
      "6/6 [==============================] - 0s 9ms/step - loss: 0.2025 - categorical_accuracy: 0.9365\n",
      "Epoch 59/100\n",
      "6/6 [==============================] - 0s 9ms/step - loss: 0.2006 - categorical_accuracy: 0.9524\n",
      "Epoch 60/100\n",
      "6/6 [==============================] - 0s 9ms/step - loss: 0.0779 - categorical_accuracy: 0.9841\n",
      "Epoch 61/100\n",
      "6/6 [==============================] - 0s 9ms/step - loss: 0.0912 - categorical_accuracy: 0.9577\n",
      "Epoch 62/100\n",
      "6/6 [==============================] - 0s 10ms/step - loss: 0.0884 - categorical_accuracy: 0.9788\n",
      "Epoch 63/100\n",
      "6/6 [==============================] - 0s 10ms/step - loss: 0.0883 - categorical_accuracy: 0.9894\n",
      "Epoch 64/100\n",
      "6/6 [==============================] - 0s 11ms/step - loss: 0.0381 - categorical_accuracy: 0.9894\n",
      "Epoch 65/100\n",
      "6/6 [==============================] - 0s 10ms/step - loss: 0.0293 - categorical_accuracy: 0.9947\n",
      "Epoch 66/100\n",
      "6/6 [==============================] - 0s 10ms/step - loss: 0.0206 - categorical_accuracy: 1.0000\n",
      "Epoch 67/100\n",
      "6/6 [==============================] - 0s 11ms/step - loss: 0.0240 - categorical_accuracy: 0.9947\n",
      "Epoch 68/100\n",
      "6/6 [==============================] - 0s 10ms/step - loss: 0.0094 - categorical_accuracy: 1.0000\n",
      "Epoch 69/100\n",
      "6/6 [==============================] - 0s 9ms/step - loss: 0.0102 - categorical_accuracy: 0.9947\n",
      "Epoch 70/100\n",
      "6/6 [==============================] - 0s 9ms/step - loss: 0.0063 - categorical_accuracy: 1.0000\n",
      "Epoch 71/100\n",
      "6/6 [==============================] - 0s 7ms/step - loss: 0.0046 - categorical_accuracy: 1.0000\n",
      "Epoch 72/100\n",
      "6/6 [==============================] - 0s 10ms/step - loss: 0.0051 - categorical_accuracy: 1.0000\n",
      "Epoch 73/100\n",
      "6/6 [==============================] - 0s 9ms/step - loss: 0.0058 - categorical_accuracy: 1.0000\n",
      "Epoch 74/100\n",
      "6/6 [==============================] - 0s 10ms/step - loss: 0.0132 - categorical_accuracy: 0.9947\n",
      "Epoch 75/100\n",
      "6/6 [==============================] - 0s 10ms/step - loss: 0.0514 - categorical_accuracy: 0.9788\n",
      "Epoch 76/100\n",
      "6/6 [==============================] - 0s 9ms/step - loss: 0.1076 - categorical_accuracy: 0.9630\n",
      "Epoch 77/100\n",
      "6/6 [==============================] - 0s 11ms/step - loss: 0.0791 - categorical_accuracy: 0.9524\n",
      "Epoch 78/100\n",
      "6/6 [==============================] - 0s 12ms/step - loss: 0.0355 - categorical_accuracy: 0.9947\n",
      "Epoch 79/100\n",
      "6/6 [==============================] - 0s 10ms/step - loss: 0.0386 - categorical_accuracy: 0.9947\n",
      "Epoch 80/100\n",
      "6/6 [==============================] - 0s 10ms/step - loss: 0.0261 - categorical_accuracy: 0.9947\n",
      "Epoch 81/100\n",
      "6/6 [==============================] - 0s 10ms/step - loss: 0.0282 - categorical_accuracy: 0.9894\n",
      "Epoch 82/100\n",
      "6/6 [==============================] - 0s 10ms/step - loss: 0.0219 - categorical_accuracy: 0.9947\n",
      "Epoch 83/100\n",
      "6/6 [==============================] - 0s 10ms/step - loss: 0.0212 - categorical_accuracy: 0.9947\n",
      "Epoch 84/100\n",
      "6/6 [==============================] - 0s 9ms/step - loss: 0.0116 - categorical_accuracy: 1.0000\n",
      "Epoch 85/100\n",
      "6/6 [==============================] - 0s 7ms/step - loss: 0.0082 - categorical_accuracy: 0.9947\n",
      "Epoch 86/100\n",
      "6/6 [==============================] - 0s 9ms/step - loss: 0.0147 - categorical_accuracy: 0.9947\n",
      "Epoch 87/100\n",
      "6/6 [==============================] - 0s 7ms/step - loss: 0.0402 - categorical_accuracy: 0.9841\n",
      "Epoch 88/100\n",
      "6/6 [==============================] - 0s 9ms/step - loss: 0.0189 - categorical_accuracy: 0.9894\n",
      "Epoch 89/100\n",
      "6/6 [==============================] - 0s 10ms/step - loss: 0.0376 - categorical_accuracy: 0.9841\n",
      "Epoch 90/100\n",
      "6/6 [==============================] - 0s 8ms/step - loss: 0.0426 - categorical_accuracy: 0.9788\n",
      "Epoch 91/100\n",
      "6/6 [==============================] - 0s 9ms/step - loss: 0.0250 - categorical_accuracy: 0.9947\n",
      "Epoch 92/100\n",
      "6/6 [==============================] - 0s 17ms/step - loss: 0.0353 - categorical_accuracy: 0.9947\n",
      "Epoch 93/100\n",
      "6/6 [==============================] - 0s 9ms/step - loss: 0.0037 - categorical_accuracy: 1.0000\n",
      "Epoch 94/100\n",
      "6/6 [==============================] - 0s 9ms/step - loss: 0.0042 - categorical_accuracy: 1.0000\n",
      "Epoch 95/100\n",
      "6/6 [==============================] - 0s 10ms/step - loss: 0.0113 - categorical_accuracy: 0.9947\n",
      "Epoch 96/100\n",
      "6/6 [==============================] - 0s 10ms/step - loss: 0.0081 - categorical_accuracy: 1.0000\n",
      "Epoch 97/100\n",
      "6/6 [==============================] - 0s 10ms/step - loss: 0.0187 - categorical_accuracy: 0.9947\n",
      "Epoch 98/100\n",
      "6/6 [==============================] - 0s 9ms/step - loss: 0.0019 - categorical_accuracy: 1.0000\n",
      "Epoch 99/100\n",
      "6/6 [==============================] - 0s 7ms/step - loss: 0.0019 - categorical_accuracy: 1.0000\n",
      "Epoch 100/100\n",
      "6/6 [==============================] - 0s 9ms/step - loss: 9.7408e-04 - categorical_accuracy: 1.0000\n"
     ]
    },
    {
     "data": {
      "text/plain": [
       "<keras.callbacks.History at 0x1f337e54610>"
      ]
     },
     "execution_count": 33,
     "metadata": {},
     "output_type": "execute_result"
    }
   ],
   "source": [
    "model.fit(X_train, Y_train, epochs=100)"
   ]
  },
  {
   "cell_type": "code",
   "execution_count": 38,
   "metadata": {},
   "outputs": [
    {
     "name": "stderr",
     "output_type": "stream",
     "text": [
      "WARNING:absl:Found untraced functions such as _update_step_xla while saving (showing 1 of 1). These functions will not be directly callable after loading.\n"
     ]
    },
    {
     "name": "stdout",
     "output_type": "stream",
     "text": [
      "INFO:tensorflow:Assets written to: my_model-l1\\assets\n"
     ]
    },
    {
     "name": "stderr",
     "output_type": "stream",
     "text": [
      "INFO:tensorflow:Assets written to: my_model-l1\\assets\n"
     ]
    }
   ],
   "source": [
    "model.save('my_model-l1')"
   ]
  },
  {
   "cell_type": "code",
   "execution_count": 34,
   "metadata": {},
   "outputs": [
    {
     "name": "stdout",
     "output_type": "stream",
     "text": [
      "1/1 [==============================] - 0s 483ms/step\n"
     ]
    }
   ],
   "source": [
    "predictions = np.argmax(model.predict(X_test), axis=1)"
   ]
  },
  {
   "cell_type": "code",
   "execution_count": 35,
   "metadata": {},
   "outputs": [],
   "source": [
    "test_labels = np.argmax(Y_test, axis=1)"
   ]
  },
  {
   "cell_type": "code",
   "execution_count": 36,
   "metadata": {},
   "outputs": [],
   "source": [
    "accuracy = metrics.accuracy_score(test_labels, predictions)"
   ]
  },
  {
   "cell_type": "code",
   "execution_count": 37,
   "metadata": {},
   "outputs": [
    {
     "data": {
      "text/plain": [
       "0.9523809523809523"
      ]
     },
     "execution_count": 37,
     "metadata": {},
     "output_type": "execute_result"
    }
   ],
   "source": [
    "accuracy"
   ]
  },
  {
   "cell_type": "code",
   "execution_count": null,
   "metadata": {},
   "outputs": [],
   "source": []
  }
 ],
 "metadata": {
  "kernelspec": {
   "display_name": "Python 3 (ipykernel)",
   "language": "python",
   "name": "python3"
  },
  "language_info": {
   "codemirror_mode": {
    "name": "ipython",
    "version": 3
   },
   "file_extension": ".py",
   "mimetype": "text/x-python",
   "name": "python",
   "nbconvert_exporter": "python",
   "pygments_lexer": "ipython3",
   "version": "3.11.8"
  }
 },
 "nbformat": 4,
 "nbformat_minor": 4
}
